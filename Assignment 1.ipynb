{
 "cells": [
  {
   "cell_type": "markdown",
   "metadata": {},
   "source": [
    "## 1. Calculate Area of a Circle"
   ]
  },
  {
   "cell_type": "markdown",
   "metadata": {},
   "source": [
    "#### Write a Python program which accepts the radius of a circle from the user and compute the area.\n",
    "###### Program Console Sample Output 1:\n",
    "###### Input Radius: 0.5\n",
    "###### Area of Circle with radius 0.5 is 0.7853981634"
   ]
  },
  {
   "cell_type": "code",
   "execution_count": 3,
   "metadata": {},
   "outputs": [
    {
     "name": "stdout",
     "output_type": "stream",
     "text": [
      "input Radius:0.5\n",
      "\n",
      "Area of Circle with radius 0.5 is 0.7853981634\n"
     ]
    }
   ],
   "source": [
    "r=float(input('input Radius:'))\n",
    "radius=(3.14159265358979323846)*r**2 #formula of radius\n",
    "print(\"\\nArea of Circle with radius\",r,\"is\",(f\"{radius:0.10f}\"))"
   ]
  },
  {
   "cell_type": "markdown",
   "metadata": {},
   "source": [
    "## 2. Check Number either positive, negative or zero"
   ]
  },
  {
   "cell_type": "markdown",
   "metadata": {},
   "source": [
    "#### Write a Python program to check if a number is positive, negative or zero\n",
    "###### Program Console Sample Output 1:\n",
    "###### Enter Number: -1\n",
    "##### Negative Number Entered\n",
    "###### Program Console Sample Output 2:\n",
    "##### Integer: 3\n",
    "##### Positive Number Entered\n",
    "###### Program Console Sample Output 3:\n",
    "##### Integer: 0\n",
    "###### Zero Entered"
   ]
  },
  {
   "cell_type": "code",
   "execution_count": 45,
   "metadata": {},
   "outputs": [
    {
     "name": "stdout",
     "output_type": "stream",
     "text": [
      "Enter  Number:-1\n",
      "Negative Number Enterd\n"
     ]
    }
   ],
   "source": [
    "number = int(input('Enter  Number:'))\n",
    "\n",
    "if number > 0:\n",
    "    print('Positive Number Ented')\n",
    "    \n",
    "elif number < 0:\n",
    "    print('Negative Number Enterd')\n",
    "else:\n",
    "    print('Zero Enterd')"
   ]
  },
  {
   "cell_type": "code",
   "execution_count": 44,
   "metadata": {},
   "outputs": [
    {
     "name": "stdout",
     "output_type": "stream",
     "text": [
      "Enter  Number:3\n",
      "Positive Number Ented\n"
     ]
    }
   ],
   "source": [
    "number = int(input('Enter  Number:'))\n",
    "\n",
    "if number > 0:\n",
    "    print('Positive Number Ented')\n",
    "    \n",
    "elif number < 0:\n",
    "    print('Negative Number Enterd')\n",
    "else:\n",
    "    print('Zero Enterd')"
   ]
  },
  {
   "cell_type": "code",
   "execution_count": 43,
   "metadata": {},
   "outputs": [
    {
     "name": "stdout",
     "output_type": "stream",
     "text": [
      "Enter  Number:0\n",
      "Zero Enterd\n"
     ]
    }
   ],
   "source": [
    "number = int(input('Enter  Number:'))\n",
    "\n",
    "if number > 0:\n",
    "    print('Positive Number Ented')\n",
    "    \n",
    "elif number < 0:\n",
    "    print('Negative Number Enterd')\n",
    "else:\n",
    "    print('Zero Enterd')"
   ]
  },
  {
   "cell_type": "markdown",
   "metadata": {},
   "source": [
    "## 3. Divisibility Check of two numbers"
   ]
  },
  {
   "cell_type": "markdown",
   "metadata": {},
   "source": [
    "#### Write a Python program to check whether a number is completely divisible by another number. Accept two integer values form the user\n",
    "##### Program Console Sample Output 1:\n",
    "###### Enter numerator: 4\n",
    "###### Enter Denominator: 2\n",
    "##### Number 4 is Completely divisible by 2\n",
    "###### Program Console Sample Output 2:\n",
    "##### Enter numerator: 7\n",
    "\n",
    "##### Enter Denominator: 4\n",
    "###### Number 7 is not Completely divisible by 4"
   ]
  },
  {
   "cell_type": "code",
   "execution_count": 47,
   "metadata": {},
   "outputs": [
    {
     "name": "stdout",
     "output_type": "stream",
     "text": [
      "Enter numirator:4\n",
      "Enter denomirator:2\n",
      "number 4  is not compeletly divisible by 2\n"
     ]
    }
   ],
   "source": [
    "numirator = int(input(\"Enter numirator:\"))\n",
    "denomirator = int(input(\"Enter denomirator:\"))\n",
    "if numirator/denomirator == 0:\n",
    "    print('number',numirator,' is compeletly divisible by',denomirator)\n",
    "else:\n",
    "    print('number',numirator,' is not compeletly divisible by',denomirator)"
   ]
  },
  {
   "cell_type": "code",
   "execution_count": 48,
   "metadata": {},
   "outputs": [
    {
     "name": "stdout",
     "output_type": "stream",
     "text": [
      "Enter numirator:7\n",
      "Enter denomirator:4\n",
      "number 7  is not compeletly divisible by 4\n"
     ]
    }
   ],
   "source": [
    "numirator = int(input(\"Enter numirator:\"))\n",
    "denomirator = int(input(\"Enter denomirator:\"))\n",
    "if numirator/denomirator == 0:\n",
    "    print('number',numirator,' is compeletly divisible by',denomirator)\n",
    "else:\n",
    "    print('number',numirator,' is not compeletly divisible by',denomirator)"
   ]
  },
  {
   "cell_type": "markdown",
   "metadata": {},
   "source": [
    "## 4. Calculate Volume of a sphere"
   ]
  },
  {
   "cell_type": "markdown",
   "metadata": {},
   "source": [
    "##### Write a Python program to get the volume of a sphere, please take the radius as input from user"
   ]
  },
  {
   "cell_type": "markdown",
   "metadata": {},
   "source": [
    "##### Program Console Output:\n",
    "##### Enter Radius of Sphere: 1\n",
    "###### Volume of the Sphere with Radius 1 is 4.18"
   ]
  },
  {
   "cell_type": "code",
   "execution_count": 38,
   "metadata": {},
   "outputs": [
    {
     "name": "stdout",
     "output_type": "stream",
     "text": [
      "Enter Radius of Sphere:1\n",
      "\n",
      "Volume of the Sphere with Radius 1 is 4.19\n"
     ]
    }
   ],
   "source": [
    "r=int(input(\"Enter Radius of Sphere:\"))\n",
    "volume=(4/3)*(3.142)*r**3\n",
    "print('\\nVolume of the Sphere with Radius',r,'is',(f'{volume:0.2f}'))"
   ]
  },
  {
   "cell_type": "markdown",
   "metadata": {},
   "source": [
    "## 5. Copy string n times\n",
    "#### Write a Python program to get a string which is n (non-negative integer) copies of a given string.\n",
    "##### Program Console Output:\n",
    "##### Enter String: Hi\n",
    "###### How many copies of String you need: 4\n",
    "###### 4 Copies of Hi are HiHiHiHi"
   ]
  },
  {
   "cell_type": "code",
   "execution_count": 10,
   "metadata": {},
   "outputs": [
    {
     "name": "stdout",
     "output_type": "stream",
     "text": [
      "Enter String: Hi\n",
      "\n",
      "How many copies of string you need: 4\n",
      "\n",
      " 4 copies of Hi are HiHiHiHi\n"
     ]
    }
   ],
   "source": [
    "string = str(input(\"Enter String: \"))\n",
    "no_of_copies = int(input(\"\\nHow many copies of string you need: \"))\n",
    "while no_of_copies<0:#for any negative input\n",
    "    print (\"\\nplease try positive number\")\n",
    "    no_of_copies = int(input(\"How many copies of string you need: \"))\n",
    "print ('\\n',no_of_copies,'copies of',string,'are',string*no_of_copies)"
   ]
  },
  {
   "cell_type": "markdown",
   "metadata": {},
   "source": [
    "## 6. Check if number is Even or Odd\n",
    "### Write a Python program to find whether a given number (accept from the user) is even or odd, print out an appropriate message to the user\n",
    "#### Program Console Output 1:\n",
    "##### Enter Number: 4\n",
    "###### 4 is Even\n",
    "#### Program Console Output 2:\n",
    "##### Enter Number: 9\n",
    "###### 9 is Odd"
   ]
  },
  {
   "cell_type": "code",
   "execution_count": 22,
   "metadata": {},
   "outputs": [
    {
     "name": "stdout",
     "output_type": "stream",
     "text": [
      "Enter Number:4\n",
      "4 is even\n"
     ]
    }
   ],
   "source": [
    "number = int(input('Enter Number:'))\n",
    "if number%2 == 0:\n",
    "    print(number,'is even')\n",
    "else:\n",
    "    print(number,'is odd')"
   ]
  },
  {
   "cell_type": "code",
   "execution_count": 21,
   "metadata": {},
   "outputs": [
    {
     "name": "stdout",
     "output_type": "stream",
     "text": [
      "Enter Number:9\n",
      "9 is odd\n"
     ]
    }
   ],
   "source": [
    "number = int(input('Enter Number:'))\n",
    "if number%2 == 0:\n",
    "    print(number,'is even')\n",
    "else:\n",
    "    print(number,'is odd')"
   ]
  },
  {
   "cell_type": "markdown",
   "metadata": {},
   "source": [
    "## 7. Vowel Tester\n",
    "### Write a Python program to test whether a passed letter is a vowel or not\n",
    "#### Program Console Output 1:\n",
    "##### Enter a character: A\n",
    "###### Letter A is Vowel\n",
    "#### Program Console Output 2:\n",
    "##### Enter a character: e\n",
    "###### Letter e is Vowel\n",
    "#### Program Console Output 2:\n",
    "##### Enter a character: N\n",
    "###### Letter N is not Vowel"
   ]
  },
  {
   "cell_type": "code",
   "execution_count": 42,
   "metadata": {},
   "outputs": [
    {
     "name": "stdout",
     "output_type": "stream",
     "text": [
      "Enter a character:A\n",
      "Letter A  is Vowel\n"
     ]
    }
   ],
   "source": [
    "character=input('Enter a character:')\n",
    "if character.lower() in {'a','e','i','o','u'}:\n",
    "    print('Letter',character,' is Vowel')\n",
    "else:\n",
    "    print('Letter',character,' is not Vowel')"
   ]
  },
  {
   "cell_type": "code",
   "execution_count": 43,
   "metadata": {},
   "outputs": [
    {
     "name": "stdout",
     "output_type": "stream",
     "text": [
      "Enter a character:e\n",
      "Letter e  is Vowel\n"
     ]
    }
   ],
   "source": [
    "character=input('Enter a character:')\n",
    "if character.lower() in {'a','e','i','o','u'}:\n",
    "    print('Letter',character,' is Vowel')\n",
    "else:\n",
    "    print('Letter',character,' is not Vowel')"
   ]
  },
  {
   "cell_type": "code",
   "execution_count": 44,
   "metadata": {},
   "outputs": [
    {
     "name": "stdout",
     "output_type": "stream",
     "text": [
      "Enter a character:N\n",
      "Letter N  is not Vowel\n"
     ]
    }
   ],
   "source": [
    "character=input('Enter a character:')\n",
    "if character.lower() in {'a','e','i','o','u'}:\n",
    "    print('Letter',character,' is Vowel')\n",
    "else:\n",
    "    print('Letter',character,' is not Vowel')"
   ]
  },
  {
   "cell_type": "markdown",
   "metadata": {},
   "source": [
    "## 8. Triangle area\n",
    "### Write a Python program that will accept the base and height of a triangle and compute the area\n",
    "###### Reference:\n",
    "https://www.mathgoodies.com/lessons/vol1/area_triangle"
   ]
  },
  {
   "cell_type": "code",
   "execution_count": 10,
   "metadata": {},
   "outputs": [
    {
     "name": "stdout",
     "output_type": "stream",
     "text": [
      "Enter Base: 5\n",
      "Enter Height: 6\n",
      "\n",
      "Area of Triangle is 15.0\n"
     ]
    }
   ],
   "source": [
    "base = float(input(\"Enter Base: \"))\n",
    "height = float(input(\"Enter Height: \"))\n",
    "print(\"\\nArea of Triangle is\" ,(base*height)/2)#formula for area of triangle"
   ]
  },
  {
   "cell_type": "markdown",
   "metadata": {},
   "source": [
    "## 9. Calculate Interest\n",
    "### Write a Python program to compute the future value of a specified principal amount, rate of interest, and a number of years\n",
    "#### Program Console Sample 1:\n",
    "##### Please enter principal amount: 10000\n",
    "###### Please Enter Rate of interest in %: 0.1\n",
    "###### Enter number of years for investment: 5\n",
    "###### After 5 years your principal amount 10000 over an interest rate of 0.1 % will be 16105.1"
   ]
  },
  {
   "cell_type": "code",
   "execution_count": 24,
   "metadata": {},
   "outputs": [
    {
     "name": "stdout",
     "output_type": "stream",
     "text": [
      "Please enter principal amount:10000\n",
      "\n",
      "Please Enter Rate of interest in %:0.1\n",
      "\n",
      "Enter number of years for investment:5\n",
      "\n",
      "After 5.0 years your principal amount 10000.0 over an interest rate of 0.1 will be 16105.1\n"
     ]
    }
   ],
   "source": [
    "principle_amount = float(input('Please enter principal amount:'))\n",
    "rate = float(input('\\nPlease Enter Rate of interest in %:'))\n",
    "years= float(input('\\nEnter number of years for investment:'))\n",
    "print('\\nAfter',years, 'years your principal amount',principle_amount,'over an interest rate of',rate,\n",
    "'will be',f\"{(principle_amount * (1+rate) ** years):0.1f}\")"
   ]
  },
  {
   "cell_type": "markdown",
   "metadata": {},
   "source": [
    "## 10. Euclidean distance\n",
    "### write a Python program to compute the distance between the points (x1, y1) and (x2, y2).\n",
    "#### Program Console Sample 1:\n",
    "###### Enter Co-ordinate for x1: 2\n",
    "###### Enter Co-ordinate for x2: 4\n",
    "###### Enter Co-ordinate for y1: 4\n",
    "###### Enter Co-ordinate for y2: 4\n",
    "###### Distance between points (2, 4) and (4, 4) is 2"
   ]
  },
  {
   "cell_type": "markdown",
   "metadata": {},
   "source": [
    "###### Reference:\n",
    "https://en.wikipedia.org/wiki/Euclidean_distance"
   ]
  },
  {
   "cell_type": "code",
   "execution_count": 36,
   "metadata": {},
   "outputs": [
    {
     "name": "stdout",
     "output_type": "stream",
     "text": [
      "Enter Co-ordinate for x1:2\n",
      "\n",
      "Enter Co-ordinate for x2:4\n",
      "\n",
      "Enter Co-ordinate for y1:4\n",
      "\n",
      "Enter Co-ordinate for y2:4\n",
      "Distance between points( 2 , 4 ) and ( 4 , 4 )is 2.0\n"
     ]
    }
   ],
   "source": [
    "x1 = int(input(\"Enter Co-ordinate for x1:\"))\n",
    "x2 = int(input(\"\\nEnter Co-ordinate for x2:\"))\n",
    "y1 = int(input(\"\\nEnter Co-ordinate for y1:\"))\n",
    "y2 = int(input(\"\\nEnter Co-ordinate for y2:\"))\n",
    "\n",
    "distance = (((x2-x1)**2)+((y2-y1)**2))**1/2\n",
    "print(\"Distance between points(\",x1,\",\",x2,\") and (\",y1,\",\",y2,\")is\",distance)"
   ]
  },
  {
   "cell_type": "markdown",
   "metadata": {},
   "source": [
    "## 11. Feet to Centimeter Converter\n",
    "### Write a Python program to convert height in feet to centimetres.\n",
    "##### Program Console Sample 1:\n",
    "###### Enter Height in Feet: 5\n",
    "###### There are 152.4 Cm in 5 ft\n",
    "###### Reference:\n",
    "https://www.rapidtables.com/convert/length/feet-to-cm.html"
   ]
  },
  {
   "cell_type": "code",
   "execution_count": 42,
   "metadata": {},
   "outputs": [
    {
     "name": "stdout",
     "output_type": "stream",
     "text": [
      "Enter Height in Feet:5\n",
      "there are 152.4 cm in 5.0 ft\n"
     ]
    }
   ],
   "source": [
    "hight=float(input('Enter Height in Feet:'))\n",
    "print('There are',(hight*30.48),'Cm in',hight,'ft')"
   ]
  },
  {
   "cell_type": "markdown",
   "metadata": {},
   "source": [
    "## 12. BMI Calculator\n",
    "### Write a Python program to calculate body mass index\n",
    "##### Program Console Sample 1:\n",
    "###### Enter Height in Cm: 180\n",
    "###### Enter Weight in Kg: 75\n",
    "###### Your BMI is 23.15"
   ]
  },
  {
   "cell_type": "code",
   "execution_count": 53,
   "metadata": {},
   "outputs": [
    {
     "name": "stdout",
     "output_type": "stream",
     "text": [
      "Enter Height in Cm:180\n",
      "\n",
      "Enter Weight in Kg:75\n",
      "\n",
      "your BMI is 23.15\n"
     ]
    }
   ],
   "source": [
    "Height = float(input(\"Enter Height in Cm:\"))\n",
    "Weight = float(input(\"\\nEnter Weight in Kg:\"))\n",
    "BMI = Weight/((Height*0.01)**2)#BMI formula im SI unit system\n",
    "print(\"\\nyour BMI is\",(f\"{BMI:0.2f}\"))"
   ]
  },
  {
   "cell_type": "markdown",
   "metadata": {},
   "source": [
    "## 13. Sum of n Positive Integers\n",
    "### Write a python program to sum of the first n positive integers\n",
    "#### Program Console Sample 1:\n",
    "###### Enter value of n: 5\n",
    "###### Sum of n Positive integers till 5 is 15"
   ]
  },
  {
   "cell_type": "code",
   "execution_count": 84,
   "metadata": {},
   "outputs": [
    {
     "name": "stdout",
     "output_type": "stream",
     "text": [
      "Enter value of n:5\n",
      "\n",
      "Sum of n Positive integers till 5 is 15\n"
     ]
    }
   ],
   "source": [
    "sum=0\n",
    "number=int(input(\"Enter value of n:\"))\n",
    "for i in range (0,number+1):\n",
    "    sum=sum+i\n",
    "print ('\\nSum of n Positive integers till',number,'is',15)"
   ]
  },
  {
   "cell_type": "markdown",
   "metadata": {},
   "source": [
    "## 14. Digits Sum of a Number\n",
    "### Write a Python program to calculate the sum of the digits in an integer\n",
    "#### Program Console Sample 1:\n",
    "##### Enter a number: 15\n",
    "###### Sum of 1 + 5 is 6\n",
    "#### Program Console Sample 2:\n",
    "##### Enter a number: 1234\n",
    "###### Sum of 1 + 2 + 3 + 4 is 10"
   ]
  },
  {
   "cell_type": "code",
   "execution_count": 12,
   "metadata": {},
   "outputs": [
    {
     "name": "stdout",
     "output_type": "stream",
     "text": [
      "Enter a number:15\n",
      "Sum of 1 + 5 is 6\n"
     ]
    }
   ],
   "source": [
    "number = input(\"Enter a number:\")\n",
    "digits = list(number)\n",
    "sum=0\n",
    "last_digit = digits[len(digits)-1]\n",
    "print(\"Sum of\",end=\" \")\n",
    "for i in digits:\n",
    "    print(i,end=\"\")\n",
    "    if i != last_digit:\n",
    "        print(\" + \",end='')\n",
    "    sum+=int(i)\n",
    "print(\" is \"+str(sum))"
   ]
  },
  {
   "cell_type": "code",
   "execution_count": 13,
   "metadata": {},
   "outputs": [
    {
     "name": "stdout",
     "output_type": "stream",
     "text": [
      "Enter a number:1234\n",
      "Sum of 1 + 2 + 3 + 4 is 10\n"
     ]
    }
   ],
   "source": [
    "number = input(\"Enter a number:\")\n",
    "digits = list(number)\n",
    "sum=0\n",
    "last_digit = digits[len(digits)-1]\n",
    "print(\"Sum of\",end=\" \")\n",
    "for i in digits:\n",
    "    print(i,end=\"\")\n",
    "    if i != last_digit:\n",
    "        print(\" + \",end='')\n",
    "    sum+=int(i)\n",
    "print(\" is \"+str(sum))"
   ]
  }
 ],
 "metadata": {
  "kernelspec": {
   "display_name": "Python 3",
   "language": "python",
   "name": "python3"
  },
  "language_info": {
   "codemirror_mode": {
    "name": "ipython",
    "version": 3
   },
   "file_extension": ".py",
   "mimetype": "text/x-python",
   "name": "python",
   "nbconvert_exporter": "python",
   "pygments_lexer": "ipython3",
   "version": "3.6.5"
  }
 },
 "nbformat": 4,
 "nbformat_minor": 2
}
